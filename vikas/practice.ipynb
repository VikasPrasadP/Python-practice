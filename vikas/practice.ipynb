{
 "cells": [
  {
   "attachments": {},
   "cell_type": "markdown",
   "metadata": {},
   "source": [
    "VARIABLES"
   ]
  },
  {
   "cell_type": "code",
   "execution_count": 3,
   "metadata": {},
   "outputs": [
    {
     "name": "stdout",
     "output_type": "stream",
     "text": [
      "7\n",
      "9 10 3\n",
      "hi\n",
      "bat happy\n"
     ]
    }
   ],
   "source": [
    "myNumber = 7\n",
    "my_number = 9\n",
    "_my_num = 3\n",
    "num = 10\n",
    "x,y,z = \"bat\",\"hi\",\"happy\"\n",
    "print(myNumber)\n",
    "print(my_number,num,_my_num)\n",
    "print(y)\n",
    "print(x,z)"
   ]
  },
  {
   "attachments": {},
   "cell_type": "markdown",
   "metadata": {},
   "source": [
    "DATATYPE (To print datatype of a variable)"
   ]
  },
  {
   "cell_type": "code",
   "execution_count": 4,
   "metadata": {},
   "outputs": [
    {
     "name": "stdout",
     "output_type": "stream",
     "text": [
      "<class 'str'>\n",
      "<class 'int'>\n"
     ]
    }
   ],
   "source": [
    "num = 3.1\n",
    "a = 15\n",
    "b = \"age\"\n",
    "print(type(b))\n",
    "print(type(a))"
   ]
  },
  {
   "attachments": {},
   "cell_type": "markdown",
   "metadata": {},
   "source": [
    "CASTING"
   ]
  },
  {
   "cell_type": "code",
   "execution_count": 39,
   "metadata": {},
   "outputs": [
    {
     "name": "stdout",
     "output_type": "stream",
     "text": [
      "12 3.0 4\n"
     ]
    }
   ],
   "source": [
    "x = str(12)\n",
    "y = float(3)\n",
    "z = int(4.546)\n",
    "print(x,y,z)   # to print on new line use print(x,'\\n',y,'\\n',z)"
   ]
  },
  {
   "attachments": {},
   "cell_type": "markdown",
   "metadata": {},
   "source": [
    "STRINGS (Multiline Strings)"
   ]
  },
  {
   "cell_type": "code",
   "execution_count": 13,
   "metadata": {},
   "outputs": [
    {
     "name": "stdout",
     "output_type": "stream",
     "text": [
      "India is my country.\n",
      "All Indians are my brothers and sisters.\n",
      "I love my country.\n"
     ]
    }
   ],
   "source": [
    "a = \"\"\"India is my country.\n",
    "All Indians are my brothers and sisters.\n",
    "I love my country.\"\"\"\n",
    "print(a)"
   ]
  },
  {
   "attachments": {},
   "cell_type": "markdown",
   "metadata": {},
   "source": [
    "Getting the character at a position"
   ]
  },
  {
   "cell_type": "code",
   "execution_count": 19,
   "metadata": {},
   "outputs": [
    {
     "name": "stdout",
     "output_type": "stream",
     "text": [
      "S\n"
     ]
    }
   ],
   "source": [
    "a = \"I am Superman\"\n",
    "print(a[5])"
   ]
  },
  {
   "attachments": {},
   "cell_type": "markdown",
   "metadata": {},
   "source": [
    "String Length"
   ]
  },
  {
   "cell_type": "code",
   "execution_count": 20,
   "metadata": {},
   "outputs": [
    {
     "name": "stdout",
     "output_type": "stream",
     "text": [
      "13\n"
     ]
    }
   ],
   "source": [
    "a = \"I am Superman\"\n",
    "print(len(a))"
   ]
  },
  {
   "attachments": {},
   "cell_type": "markdown",
   "metadata": {},
   "source": [
    "Slicing"
   ]
  },
  {
   "cell_type": "code",
   "execution_count": 24,
   "metadata": {},
   "outputs": [
    {
     "name": "stdout",
     "output_type": "stream",
     "text": [
      "am Sup\n",
      "a\n",
      "am Superman\n",
      "I a\n"
     ]
    }
   ],
   "source": [
    "a = \"I am Superman\"\n",
    "print(a[2:8])\n",
    "print(a[2:3])\n",
    "print(a[2:])\n",
    "print(a[:3])"
   ]
  },
  {
   "attachments": {},
   "cell_type": "markdown",
   "metadata": {},
   "source": [
    "Modify String\n"
   ]
  },
  {
   "cell_type": "code",
   "execution_count": 28,
   "metadata": {},
   "outputs": [
    {
     "name": "stdout",
     "output_type": "stream",
     "text": [
      " i am superman \n",
      " I AM SUPERMAN \n",
      "I am Superman\n"
     ]
    }
   ],
   "source": [
    "a = \" I am Superman \"\n",
    "print(a.lower())\n",
    "print(a.upper())\n",
    "print(a.strip()) #removes the whitespace from the beginning and the end\n"
   ]
  },
  {
   "attachments": {},
   "cell_type": "markdown",
   "metadata": {},
   "source": [
    "Concatenation"
   ]
  },
  {
   "cell_type": "code",
   "execution_count": 32,
   "metadata": {},
   "outputs": [
    {
     "name": "stdout",
     "output_type": "stream",
     "text": [
      "I am Supermannot Batman\n"
     ]
    }
   ],
   "source": [
    "a = \"I am Superman\"\n",
    "b = \"not Batman\"\n",
    "c = a+b    # to add space between them use a+\" \"+b\n",
    "print(c)"
   ]
  },
  {
   "attachments": {},
   "cell_type": "markdown",
   "metadata": {},
   "source": [
    "String Format ( to combine strings and numbers )"
   ]
  },
  {
   "cell_type": "code",
   "execution_count": 40,
   "metadata": {},
   "outputs": [
    {
     "name": "stdout",
     "output_type": "stream",
     "text": [
      "I am 21 years old\n"
     ]
    }
   ],
   "source": [
    "age = 21\n",
    "a = \"I am {} years old\"  # use {} where you want to place the number\n",
    "print(a.format(age))      # use format()"
   ]
  },
  {
   "attachments": {},
   "cell_type": "markdown",
   "metadata": {},
   "source": [
    "LISTS"
   ]
  },
  {
   "cell_type": "code",
   "execution_count": 50,
   "metadata": {},
   "outputs": [
    {
     "name": "stdout",
     "output_type": "stream",
     "text": [
      "['antman', 'blackwidow', 'captain', 'hulk', 'thor']\n",
      "5\n",
      "captain\n"
     ]
    }
   ],
   "source": [
    "a = [\"hulk\",\"thor\",\"captain\"]\n",
    "b = [\"antman\",\"blackwidow\"]\n",
    "a.insert(2,\"ironman\")     #inserting new element  use insert()\n",
    "a.append(\"loki\")     #to add an item at the end of the list use append()\n",
    "a.extend(b)        # to extend a new list to another list\n",
    "a.remove(\"loki\")    # to remove a specified item use remove()\n",
    "a.sort()         # for sorting alphanumerically use sort()\n",
    "a.pop(4)        # to remove specified index use pop()\n",
    "print(a)\n",
    "print(len(a))   #length of list\n",
    "print(a[2])    #access items"
   ]
  },
  {
   "attachments": {},
   "cell_type": "markdown",
   "metadata": {},
   "source": [
    "TUPLES"
   ]
  },
  {
   "cell_type": "code",
   "execution_count": 54,
   "metadata": {},
   "outputs": [
    {
     "name": "stdout",
     "output_type": "stream",
     "text": [
      "('superman', 'batman', 'flash')\n",
      "('superman', 'batman', 'flash', 'aquaman', 'wonderwoman')\n",
      "('superman', 'batman', 'flash', 'superman', 'batman', 'flash', 'superman', 'batman', 'flash')\n"
     ]
    }
   ],
   "source": [
    "a = (\"superman\",\"batman\",\"flash\")\n",
    "b = (\"aquaman\",\"wonderwoman\")\n",
    "c = a+b     # joining two tuples\n",
    "d = a*3   # multiplying tuples\n",
    "print(a)\n",
    "print(c)\n",
    "print(d)\n",
    "# to create tuple with only one item a = (\"superman\",)\n",
    "# if the comma at the end is not given it is considered as string."
   ]
  },
  {
   "attachments": {},
   "cell_type": "markdown",
   "metadata": {},
   "source": [
    "SET"
   ]
  },
  {
   "cell_type": "code",
   "execution_count": 58,
   "metadata": {},
   "outputs": [
    {
     "name": "stdout",
     "output_type": "stream",
     "text": [
      "{'captain', 'panther', 'loki', 'thor', 'ironman'}\n"
     ]
    }
   ],
   "source": [
    "a = {\"hulk\",\"thor\",\"captain\"}\n",
    "a.add(\"ironman\")     # to add an item to the set.\n",
    "b = {\"panther\",\"loki\"}\n",
    "a.update(b)     #to add items from one set to another set.\n",
    "a.remove(\"hulk\")  #to remove an item use remove() or discard()\n",
    "print(a)"
   ]
  },
  {
   "attachments": {},
   "cell_type": "markdown",
   "metadata": {},
   "source": [
    "DICTIONARY"
   ]
  },
  {
   "cell_type": "code",
   "execution_count": 68,
   "metadata": {},
   "outputs": [
    {
     "name": "stdout",
     "output_type": "stream",
     "text": [
      "{'brand': 'Maserati', 'year': '2019', 'color': 'red'}\n",
      "Maserati\n"
     ]
    }
   ],
   "source": [
    "car = {\n",
    "    \"brand\": \"Maserati\",  #first one refered as key and the second is value\n",
    "    \"model\": \"Alfieri\",\n",
    "    \"year\": \"2018\"\n",
    "}\n",
    "car[\"year\"] = \"2019\"    #changing the element.\n",
    "car[\"color\"] = \"red\"    #adding an item to the dictionary.\n",
    "car.pop(\"model\")      #removes the item with specified key name. popitem() removes the last item.\n",
    "                      # del car[\"model\"] also removes the item with specified key.\n",
    "print(car)\n",
    "print(car[\"brand\"])     #to print specified key value.\n",
    " \n",
    " "
   ]
  },
  {
   "attachments": {},
   "cell_type": "markdown",
   "metadata": {},
   "source": [
    "IF..ELSE"
   ]
  },
  {
   "cell_type": "code",
   "execution_count": 70,
   "metadata": {},
   "outputs": [
    {
     "name": "stdout",
     "output_type": "stream",
     "text": [
      "b is greater than a\n"
     ]
    }
   ],
   "source": [
    "a = 3\n",
    "b = 5\n",
    "if b > a:\n",
    "    print(\"b is greater than a\")"
   ]
  },
  {
   "attachments": {},
   "cell_type": "markdown",
   "metadata": {},
   "source": [
    "WORLDTIME API"
   ]
  },
  {
   "cell_type": "code",
   "execution_count": 1,
   "metadata": {},
   "outputs": [
    {
     "name": "stdout",
     "output_type": "stream",
     "text": [
      "{'abbreviation': 'IST', 'client_ip': '134.238.16.136', 'datetime': '2023-03-15T19:36:58.752035+05:30', 'day_of_week': 3, 'day_of_year': 74, 'dst': False, 'dst_from': None, 'dst_offset': 0, 'dst_until': None, 'raw_offset': 19800, 'timezone': 'Asia/Kolkata', 'unixtime': 1678889218, 'utc_datetime': '2023-03-15T14:06:58.752035+00:00', 'utc_offset': '+05:30', 'week_number': 11}\n",
      "2023-03-15T19:36:58.752035+05:30\n"
     ]
    }
   ],
   "source": [
    "import requests\n",
    "response = requests.get('http://worldtimeapi.org/api/timezone/Asia/Kolkata')\n",
    "print(response.json())\n",
    "res=response.json()\n",
    "print(res['datetime'])"
   ]
  },
  {
   "cell_type": "code",
   "execution_count": 2,
   "metadata": {},
   "outputs": [
    {
     "name": "stdout",
     "output_type": "stream",
     "text": [
      "<Response [200]>\n",
      "Datetime in Africa/Accra: 2023-03-15T14:07:44.205440+00:00\n"
     ]
    }
   ],
   "source": [
    "import requests\n",
    "place = input(\"Enter place: \")\n",
    "response = requests.get('http://worldtimeapi.org/api/timezone/{}'.format(place))\n",
    "print(response)\n",
    "res = response.json()\n",
    "datetime = res['datetime']\n",
    "print(\"Datetime in {}: {}\".format(place,datetime))"
   ]
  }
 ],
 "metadata": {
  "kernelspec": {
   "display_name": "Python 3",
   "language": "python",
   "name": "python3"
  },
  "language_info": {
   "codemirror_mode": {
    "name": "ipython",
    "version": 3
   },
   "file_extension": ".py",
   "mimetype": "text/x-python",
   "name": "python",
   "nbconvert_exporter": "python",
   "pygments_lexer": "ipython3",
   "version": "3.11.2"
  },
  "orig_nbformat": 4
 },
 "nbformat": 4,
 "nbformat_minor": 2
}
