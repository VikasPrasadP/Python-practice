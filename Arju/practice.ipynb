{
 "cells": [
  {
   "attachments": {},
   "cell_type": "markdown",
   "metadata": {},
   "source": [
    "# PYTHON Practice\n",
    "- Multiline commenting\n"
   ]
  },
  {
   "cell_type": "code",
   "execution_count": 4,
   "metadata": {},
   "outputs": [
    {
     "name": "stdout",
     "output_type": "stream",
     "text": [
      "Hello, World!\n"
     ]
    }
   ],
   "source": [
    "\"\"\"\n",
    "This is a comment\n",
    "written in\n",
    "more than just one line\n",
    "\"\"\"\n",
    "print(\"Hello, World!\")"
   ]
  },
  {
   "attachments": {},
   "cell_type": "markdown",
   "metadata": {},
   "source": [
    "# Built-in Data Types\n",
    "\n",
    "- Text Type:\tstr\n",
    "- Numeric Types:\tint, float, complex\n",
    "- Sequence Types:\tlist, tuple, range\n",
    "- Mapping Type:\tdict\n",
    "- Set Types:\tset, frozenset\n",
    "- Boolean Type:\tbool\n",
    "- Binary Types:\tbytes, bytearray, memoryview\n",
    "- None Type:\tNoneType"
   ]
  },
  {
   "attachments": {},
   "cell_type": "markdown",
   "metadata": {},
   "source": [
    "# complex datatype"
   ]
  },
  {
   "cell_type": "code",
   "execution_count": 8,
   "metadata": {},
   "outputs": [
    {
     "name": "stdout",
     "output_type": "stream",
     "text": [
      "1j\n",
      "<class 'complex'>\n"
     ]
    }
   ],
   "source": [
    "x = 1j\n",
    "print(x)\n",
    "print(type(x))"
   ]
  },
  {
   "attachments": {},
   "cell_type": "markdown",
   "metadata": {},
   "source": [
    "#Python Collections (Arrays)\n",
    "<br>There are four collection data types in the Python programming language:\n",
    "\n",
    "- List is a collection which is ordered and changeable. Allows duplicate members.[]\n",
    "- Tuple is a collection which is ordered and unchangeable. Allows duplicate members.()\n",
    "- Set is a collection which is unordered, unchangeable*, and unindexed. No duplicate members.{}\n",
    "- Dictionary is a collection which is ordered** and changeable. No duplicate members."
   ]
  },
  {
   "attachments": {},
   "cell_type": "markdown",
   "metadata": {},
   "source": [
    "# Negative indexing in strings"
   ]
  },
  {
   "cell_type": "code",
   "execution_count": 17,
   "metadata": {},
   "outputs": [
    {
     "name": "stdout",
     "output_type": "stream",
     "text": [
      "orl\n"
     ]
    }
   ],
   "source": [
    "b = \"hello world!\"\n",
    "print(b[-5:-2])"
   ]
  },
  {
   "attachments": {},
   "cell_type": "markdown",
   "metadata": {},
   "source": [
    "# string concatenation"
   ]
  },
  {
   "cell_type": "code",
   "execution_count": 21,
   "metadata": {},
   "outputs": [
    {
     "name": "stdout",
     "output_type": "stream",
     "text": [
      "hello world\n"
     ]
    }
   ],
   "source": [
    "a = \" hello\"\n",
    "b = \" world\"\n",
    "c = a + b\n",
    "print(c.strip())"
   ]
  },
  {
   "attachments": {},
   "cell_type": "markdown",
   "metadata": {},
   "source": [
    "# Format string"
   ]
  },
  {
   "cell_type": "code",
   "execution_count": 22,
   "metadata": {},
   "outputs": [
    {
     "name": "stdout",
     "output_type": "stream",
     "text": [
      "I want 3 pieces of item 567 for 49.95 dollars.\n"
     ]
    }
   ],
   "source": [
    "quantity = 3\n",
    "itemno = 567\n",
    "price = 49.95\n",
    "myorder = \"I want {} pieces of item {} for {} dollars.\"\n",
    "print(myorder.format(quantity, itemno, price))"
   ]
  },
  {
   "attachments": {},
   "cell_type": "markdown",
   "metadata": {},
   "source": [
    "# String Methods"
   ]
  },
  {
   "attachments": {},
   "cell_type": "markdown",
   "metadata": {},
   "source": [
    "Method\t       \n",
    "- capitalize()\tConverts the first character to upper case\n",
    "- casefold()\t    Converts string into lower case\n",
    "- center()\t    Returns a centered string\n",
    "- count()\t        Returns the number of times a specified value occurs in a string\n",
    "- encode()\t    Returns an encoded version of the string\n",
    "- endswith()\t    Returns true if the string ends with the specified value\n",
    "- expandtabs()\tSets the tab size of the string\n",
    "- find()\t        Searches the string for a specified value and returns the position of where it was found\n",
    "- format()\t    Formats specified values in a string\n",
    "- format_map()\tFormats specified values in a string\n",
    "- index()     \tSearches the string for a specified value and returns the position of where it was found\n",
    "- isalnum()   \tReturns True if all characters in the string are alphanumeric\n",
    "- isalpha()   \tReturns True if all characters in the string are in the alphabet\n",
    "- isdecimal()\t    Returns True if all characters in the string are decimals\n",
    "- isdigit()\t    Returns True if all characters in the string are digits\n",
    "- isidentifier()\tReturns True if the string is an identifier\n",
    "- islower()   \tReturns True if all characters in the string are lower case\n",
    "- isnumeric() \tReturns True if all characters in the string are numeric\n",
    "- isprintable()\tReturns True if all characters in the string are printable\n",
    "- isspace()   \tReturns True if all characters in the string are whitespaces\n",
    "- istitle()\t    Returns True if the string follows the rules of a title\n",
    "- isupper()   \tReturns True if all characters in the string are upper case\n",
    "- join()\t        Joins the elements of an iterable to the end of the string\n",
    "- ljust()     \tReturns a left justified version of the string\n",
    "- lower()     \tConverts a string into lower case\n",
    "- lstrip()    \tReturns a left trim version of the string\n",
    "- maketrans() \tReturns a translation table to be used in translations\n",
    "- partition()\t    Returns a tuple where the string is parted into three parts\n",
    "- replace()\t    Returns a string where a specified value is replaced with a specified value\n",
    "- rfind()     \tSearches the string for a specified value and returns the last position of where it was found\n",
    "- rindex()     \tSearches the string for a specified value and returns the last position of where it was found\n",
    "- rjust()\t        Returns a right justified version of the string\n",
    "- rpartition()\tReturns a tuple where the string is parted into three parts\n",
    "- rsplit()\t    Splits the string at the specified separator, and returns a list\n",
    "- rstrip()\t    Returns a right trim version of the string\n",
    "- split()\t        Splits the string at the specified separator, and returns a list \n",
    "- splitlines()\tSplits the string at line breaks and returns a list\n",
    "- startswith()\tReturns true if the string starts with the specified value\n",
    "- strip()\t        Returns a trimmed version of the string\n",
    "- swapcase()  \tSwaps cases, lower case becomes upper case and vice versa\n",
    "- title()     \tConverts the first character of each word to upper case\n",
    "- translate()  \tReturns a translated string\n",
    "upper()     \tConverts a string into upper case\n",
    "- zfill()\t        Fills the string with a specified number of 0 values at the beginning"
   ]
  },
  {
   "attachments": {},
   "cell_type": "markdown",
   "metadata": {},
   "source": [
    "# List\n",
    "- Lists are used to store multiple items in a single variable.\n",
    "\n",
    "- Lists are one of 4 built-in data types in Python used to store collections of data, the other 3 are Tuple, Set, and Dictionary, all with different qualities and usage.\n",
    "\n",
    "- Lists are created using square brackets:"
   ]
  },
  {
   "cell_type": "code",
   "execution_count": 23,
   "metadata": {},
   "outputs": [
    {
     "name": "stdout",
     "output_type": "stream",
     "text": [
      "['apple', 'banana', 'cherry']\n"
     ]
    }
   ],
   "source": [
    "mylist = [\"apple\", \"banana\", \"cherry\"]\n",
    "print(mylist)"
   ]
  },
  {
   "attachments": {},
   "cell_type": "markdown",
   "metadata": {},
   "source": [
    "# Tuple\n",
    "- Tuples are used to store multiple items in a single variable.\n",
    "\n",
    "- Tuple is one of 4 built-in data types in Python used to store collections of data, the other 3 are List, Set, and Dictionary, all with different qualities and usage.\n",
    "\n",
    "- A tuple is a collection which is ordered and unchangeable.\n",
    "\n",
    "- Tuples are written with round brackets."
   ]
  },
  {
   "cell_type": "code",
   "execution_count": 24,
   "metadata": {},
   "outputs": [
    {
     "name": "stdout",
     "output_type": "stream",
     "text": [
      "('apple', 'banana', 'cherry')\n"
     ]
    }
   ],
   "source": [
    "thistuple = (\"apple\", \"banana\", \"cherry\")\n",
    "print(thistuple)"
   ]
  },
  {
   "attachments": {},
   "cell_type": "markdown",
   "metadata": {},
   "source": [
    "# Set\n",
    "- Sets are used to store multiple items in a single variable.\n",
    "\n",
    "- Set is one of 4 built-in data types in Python used to store collections of data, the other 3 are List, Tuple, and Dictionary, all with different qualities and usage.\n",
    "\n",
    "- A set is a collection which is unordered, unchangeable*, and unindexed.\n",
    "\n",
    "* Note: Set items are unchangeable, but you can remove items and add new items.\n",
    "\n",
    "- Sets are written with curly brackets."
   ]
  },
  {
   "cell_type": "code",
   "execution_count": 25,
   "metadata": {},
   "outputs": [
    {
     "name": "stdout",
     "output_type": "stream",
     "text": [
      "{'cherry', 'apple', 'banana'}\n"
     ]
    }
   ],
   "source": [
    "thisset = {\"apple\", \"banana\", \"cherry\"}\n",
    "print(thisset)"
   ]
  },
  {
   "attachments": {},
   "cell_type": "markdown",
   "metadata": {},
   "source": [
    "# Dictionary\n",
    "- Dictionaries are used to store data values in key:value pairs.\n",
    "\n",
    "- A dictionary is a collection which is ordered*, changeable and do not allow duplicates.\n",
    "\n",
    "- As of Python version 3.7, dictionaries are ordered. In Python 3.6 and earlier, dictionaries are unordered.\n",
    "\n",
    "- Dictionaries are written with curly brackets, and have keys and values:"
   ]
  },
  {
   "cell_type": "code",
   "execution_count": 27,
   "metadata": {},
   "outputs": [
    {
     "name": "stdout",
     "output_type": "stream",
     "text": [
      "{'brand': 'Ford', 'model': 'Mustang', 'year': 1964}\n"
     ]
    }
   ],
   "source": [
    "thisdict = {\n",
    "  \"brand\": \"Ford\",\n",
    "  \"model\": \"Mustang\",\n",
    "  \"year\": 1964\n",
    "}\n",
    "print(thisdict)"
   ]
  },
  {
   "attachments": {},
   "cell_type": "markdown",
   "metadata": {},
   "source": [
    "# Python Conditions and If statements\n",
    "- Python supports the usual logical conditions from mathematics:\n",
    "\n",
    "- Equals: a == b\n",
    "- Not Equals: a != b\n",
    "- Less than: a < b\n",
    "- Less than or equal to: a <= b\n",
    "- Greater than: a > b\n",
    "- Greater than or equal to: a >= b\n",
    "- These conditions can be used in several ways, most commonly in \"if statements\" and loops.\n",
    "\n",
    "- An \"if statement\" is written by using the if keyword."
   ]
  },
  {
   "cell_type": "code",
   "execution_count": 28,
   "metadata": {},
   "outputs": [
    {
     "name": "stdout",
     "output_type": "stream",
     "text": [
      "b is greater than a\n"
     ]
    }
   ],
   "source": [
    "a = 33\n",
    "b = 200\n",
    "if b > a:\n",
    "  print(\"b is greater than a\")"
   ]
  },
  {
   "cell_type": "markdown",
   "metadata": {},
   "source": []
  }
 ],
 "metadata": {
  "kernelspec": {
   "display_name": "Python 3",
   "language": "python",
   "name": "python3"
  },
  "language_info": {
   "codemirror_mode": {
    "name": "ipython",
    "version": 3
   },
   "file_extension": ".py",
   "mimetype": "text/x-python",
   "name": "python",
   "nbconvert_exporter": "python",
   "pygments_lexer": "ipython3",
   "version": "3.11.2"
  },
  "orig_nbformat": 4
 },
 "nbformat": 4,
 "nbformat_minor": 2
}
