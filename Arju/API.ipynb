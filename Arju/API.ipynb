{
 "cells": [
  {
   "attachments": {},
   "cell_type": "markdown",
   "metadata": {},
   "source": [
    "# Python API"
   ]
  },
  {
   "cell_type": "code",
   "execution_count": 12,
   "metadata": {},
   "outputs": [
    {
     "name": "stdout",
     "output_type": "stream",
     "text": [
      "200\n",
      "{'abbreviation': 'CET', 'client_ip': '210.18.138.158', 'datetime': '2023-03-15T15:20:24.344904+01:00', 'day_of_week': 3, 'day_of_year': 74, 'dst': False, 'dst_from': None, 'dst_offset': 0, 'dst_until': None, 'raw_offset': 3600, 'timezone': 'Europe/Paris', 'unixtime': 1678890024, 'utc_datetime': '2023-03-15T14:20:24.344904+00:00', 'utc_offset': '+01:00', 'week_number': 11}\n",
      "dateAndTimeAt Europe/Paris: 2023-03-15T15:20:24.344904+01:00\n",
      "dayOfweekAt Europe/Paris: 3\n"
     ]
    }
   ],
   "source": [
    "import requests\n",
    "country = input('country name')\n",
    "continent = input('continent name')\n",
    "response = requests.get(\"http://worldtimeapi.org/api/timezone/{}/{}\".format(continent,country))\n",
    "print(response.status_code)\n",
    "totalData = response.json()\n",
    "print(totalData)\n",
    "print(\"dateAndTimeAt {}/{}:\".format(continent,country),totalData['datetime'])\n",
    "print(\"dayOfweekAt {}/{}:\" .format(continent,country),totalData['day_of_week'])"
   ]
  }
 ],
 "metadata": {
  "kernelspec": {
   "display_name": "Python 3",
   "language": "python",
   "name": "python3"
  },
  "language_info": {
   "codemirror_mode": {
    "name": "ipython",
    "version": 3
   },
   "file_extension": ".py",
   "mimetype": "text/x-python",
   "name": "python",
   "nbconvert_exporter": "python",
   "pygments_lexer": "ipython3",
   "version": "3.11.2"
  },
  "orig_nbformat": 4
 },
 "nbformat": 4,
 "nbformat_minor": 2
}
