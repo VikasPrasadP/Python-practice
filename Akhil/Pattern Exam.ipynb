{
 "cells": [
  {
   "cell_type": "code",
   "execution_count": 19,
   "metadata": {},
   "outputs": [
    {
     "name": "stdout",
     "output_type": "stream",
     "text": [
      "\n",
      "\n",
      "1\n",
      "12\n",
      "123\n",
      "1234\n",
      "      * \n",
      "    * * * \n",
      "  * * * * * \n",
      "* * * * * * * \n"
     ]
    }
   ],
   "source": [
    "\"\"\" \n",
    "numbers in triangular form\n",
    "\"\"\"\n",
    "for i in range(6):\n",
    "        for j in range(1,i):\n",
    "            print(j,end=\"\")\n",
    "        print()   \n",
    "   \n",
    "\n",
    "\"\"\"\n",
    "pyramid\n",
    "\"\"\"\n",
    "for i in range(1, 4+1):\n",
    "    for space in range(1, (4-i)+1):\n",
    "        print(end=\"  \")\n",
    "   \n",
    "    while k!=(2*i-1):\n",
    "        print(\"* \", end=\"\")\n",
    "        k += 1\n",
    "   \n",
    "    k = 0\n",
    "    print()  "
   ]
  }
 ],
 "metadata": {
  "kernelspec": {
   "display_name": "Python 3",
   "language": "python",
   "name": "python3"
  },
  "language_info": {
   "name": "python",
   "version": "3.11.2"
  },
  "orig_nbformat": 4
 },
 "nbformat": 4,
 "nbformat_minor": 2
}
