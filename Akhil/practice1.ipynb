{
 "cells": [
  {
   "attachments": {},
   "cell_type": "markdown",
   "metadata": {},
   "source": [
    "Random function"
   ]
  },
  {
   "cell_type": "code",
   "execution_count": null,
   "metadata": {},
   "outputs": [],
   "source": [
    "#convert from int to float:\n",
    "x = float(1)\n",
    "\n",
    "#convert from float to int:\n",
    "y = int(2.8)\n",
    "\n",
    "#convert from int to complex:\n",
    "z = complex(1)\n",
    "\n",
    "print(x)\n",
    "print(y)\n",
    "print(z)\n",
    "\n",
    "print(type(x))\n",
    "print(type(y))\n",
    "print(type(z))\n"
   ]
  },
  {
   "cell_type": "code",
   "execution_count": null,
   "metadata": {},
   "outputs": [],
   "source": []
  },
  {
   "attachments": {},
   "cell_type": "markdown",
   "metadata": {},
   "source": [
    "Random module"
   ]
  },
  {
   "cell_type": "code",
   "execution_count": null,
   "metadata": {},
   "outputs": [
    {
     "name": "stdout",
     "output_type": "stream",
     "text": [
      "7\n"
     ]
    }
   ],
   "source": [
    "import random\n",
    "print(random.randrange(0,9))"
   ]
  },
  {
   "attachments": {},
   "cell_type": "markdown",
   "metadata": {},
   "source": [
    "Python Casting"
   ]
  },
  {
   "cell_type": "code",
   "execution_count": null,
   "metadata": {},
   "outputs": [
    {
     "name": "stdout",
     "output_type": "stream",
     "text": [
      "1.0\n",
      "dhgdhgg1\n",
      "dhfh <class 'str'>\n"
     ]
    }
   ],
   "source": [
    "X = float(1)\n",
    "print(x)\n",
    "y = str(\"dhgdhgg1\")\n",
    "print(y)\n",
    "z = str('dhfh')\n",
    "print(z,type(z)) #datatype of z "
   ]
  },
  {
   "attachments": {},
   "cell_type": "markdown",
   "metadata": {},
   "source": [
    "Multi line strings"
   ]
  },
  {
   "cell_type": "code",
   "execution_count": null,
   "metadata": {},
   "outputs": [
    {
     "name": "stdout",
     "output_type": "stream",
     "text": [
      "10\n"
     ]
    }
   ],
   "source": [
    "\"\"\"akhil\n",
    "code practice\n",
    "\"\"\"\n",
    "'abcdefg'\n",
    "a = 10\n",
    "print(a)"
   ]
  },
  {
   "attachments": {},
   "cell_type": "markdown",
   "metadata": {},
   "source": [
    "array of strings"
   ]
  },
  {
   "cell_type": "code",
   "execution_count": null,
   "metadata": {},
   "outputs": [],
   "source": [
    "a= \"akhil,isddj!\"\n",
    "print(a[7])\n",
    "\n",
    "for x in \"akhil\": #looping through string\n",
    " print(x)\n",
    " print(len(x))"
   ]
  },
  {
   "attachments": {},
   "cell_type": "markdown",
   "metadata": {},
   "source": [
    "Check string"
   ]
  },
  {
   "cell_type": "code",
   "execution_count": null,
   "metadata": {},
   "outputs": [
    {
     "name": "stdout",
     "output_type": "stream",
     "text": [
      "True\n"
     ]
    }
   ],
   "source": [
    "ak =\"abc efg\"\n",
    "print(\"efg\" in ak)\n",
    "\n",
    "txt = \"The best things in life are free!\"\n",
    "if \"free\" in txt:\n",
    "  print(\"Yes, 'free' is present.\")"
   ]
  },
  {
   "attachments": {},
   "cell_type": "markdown",
   "metadata": {},
   "source": [
    "Check if not"
   ]
  },
  {
   "cell_type": "code",
   "execution_count": null,
   "metadata": {},
   "outputs": [
    {
     "name": "stdout",
     "output_type": "stream",
     "text": [
      "True\n"
     ]
    }
   ],
   "source": [
    "ak =\"gfd xsr\"\n",
    "print(\"abc\" not in ak)"
   ]
  },
  {
   "attachments": {},
   "cell_type": "markdown",
   "metadata": {},
   "source": [
    "Slicing"
   ]
  },
  {
   "cell_type": "code",
   "execution_count": null,
   "metadata": {},
   "outputs": [],
   "source": [
    "b = \"Hello, World!\"\n",
    "print(b[2:5])"
   ]
  },
  {
   "attachments": {},
   "cell_type": "markdown",
   "metadata": {},
   "source": [
    "Upper/lower case"
   ]
  },
  {
   "cell_type": "code",
   "execution_count": null,
   "metadata": {},
   "outputs": [
    {
     "name": "stdout",
     "output_type": "stream",
     "text": [
      "HELLO, WORLD!\n",
      "hello, world!\n"
     ]
    }
   ],
   "source": [
    "a = \"Hello, World!\"\n",
    "print(a.upper())\n",
    "b = \"Hello, World!\"\n",
    "print(a.lower())"
   ]
  },
  {
   "attachments": {},
   "cell_type": "markdown",
   "metadata": {},
   "source": [
    "Remove white space from back nd end"
   ]
  },
  {
   "cell_type": "code",
   "execution_count": null,
   "metadata": {},
   "outputs": [],
   "source": [
    "a = \" Hello World! \"\n",
    "print(a.strip())"
   ]
  },
  {
   "attachments": {},
   "cell_type": "markdown",
   "metadata": {},
   "source": [
    "Replace string"
   ]
  },
  {
   "cell_type": "code",
   "execution_count": null,
   "metadata": {},
   "outputs": [
    {
     "name": "stdout",
     "output_type": "stream",
     "text": [
      "abcd,pfg\n"
     ]
    }
   ],
   "source": [
    "b=\"abcd,efg\"\n",
    "print(b.replace(\"e\",\"p\"))"
   ]
  },
  {
   "attachments": {},
   "cell_type": "markdown",
   "metadata": {},
   "source": [
    "Concatenate"
   ]
  },
  {
   "cell_type": "code",
   "execution_count": null,
   "metadata": {},
   "outputs": [
    {
     "name": "stdout",
     "output_type": "stream",
     "text": [
      "Hello World\n"
     ]
    }
   ],
   "source": [
    "a = \"Hello\"\n",
    "b = \"World\"\n",
    "c = a + \" \"+ b\n",
    "print(c)"
   ]
  },
  {
   "attachments": {},
   "cell_type": "markdown",
   "metadata": {},
   "source": [
    "stact format"
   ]
  },
  {
   "cell_type": "code",
   "execution_count": null,
   "metadata": {},
   "outputs": [],
   "source": [
    "quantity = 3\n",
    "itemno = 567\n",
    "price = 49.95\n",
    "myorder = \"I want {} pieces of item {} for {} dollars.\"\n",
    "print(myorder.format(quantity, itemno, price)) "
   ]
  },
  {
   "attachments": {},
   "cell_type": "markdown",
   "metadata": {},
   "source": [
    "-PYTHON LISTS"
   ]
  },
  {
   "cell_type": "code",
   "execution_count": null,
   "metadata": {},
   "outputs": [
    {
     "name": "stdout",
     "output_type": "stream",
     "text": [
      "banana\n",
      "['apple', 'banana', 'cherry', 'kiwi']\n",
      "cherry\n",
      "['cherry', 'orange', 'kiwi']\n"
     ]
    }
   ],
   "source": [
    "fruits = [\"apple\", \"banana\", \"cherry\"]\n",
    "print(\n",
    "fruits[1]\n",
    ")\n",
    "\n",
    "\"\"\"\n",
    "add new data to array using append methord\n",
    "\"\"\"\n",
    "fruit =[\"apple\",\"banana\",\"cherry\"]\n",
    "fruit.append(\"kiwi\")\n",
    "print(fruit)\n",
    "\n",
    "fruits = [\"apple\", \"banana\", \"cherry\"]  #negative index\n",
    "print(\n",
    "fruits[-1]\n",
    ")\n",
    "\n",
    "\n",
    "fruits = [\"apple\", \"banana\", \"cherry\", \"orange\", \"kiwi\", \"melon\", \"mango\"] #used to print 3rd to 5th item\n",
    "print(fruits[\n",
    "2:5\n",
    "])"
   ]
  },
  {
   "attachments": {},
   "cell_type": "markdown",
   "metadata": {},
   "source": [
    "Boolean False statements"
   ]
  },
  {
   "cell_type": "code",
   "execution_count": null,
   "metadata": {},
   "outputs": [
    {
     "data": {
      "text/plain": [
       "False"
      ]
     },
     "execution_count": 9,
     "metadata": {},
     "output_type": "execute_result"
    }
   ],
   "source": [
    "bool(False)\n",
    "bool(None)\n",
    "bool(0)\n",
    "bool(\"\")\n",
    "bool(())\n",
    "bool([])\n",
    "bool({})"
   ]
  },
  {
   "attachments": {},
   "cell_type": "markdown",
   "metadata": {},
   "source": [
    "isinstance used to check an instance datatype"
   ]
  },
  {
   "cell_type": "code",
   "execution_count": null,
   "metadata": {},
   "outputs": [
    {
     "name": "stdout",
     "output_type": "stream",
     "text": [
      "True\n",
      "True\n"
     ]
    }
   ],
   "source": [
    "x = 200\n",
    "print(isinstance(x, int))\n",
    "z = \"dfdff\"\n",
    "print(isinstance(z,str))"
   ]
  },
  {
   "attachments": {},
   "cell_type": "markdown",
   "metadata": {},
   "source": [
    "Python operators"
   ]
  },
  {
   "cell_type": "code",
   "execution_count": null,
   "metadata": {},
   "outputs": [
    {
     "name": "stdout",
     "output_type": "stream",
     "text": [
      "False\n",
      "True\n"
     ]
    }
   ],
   "source": [
    "x = [\"apple\", \"banana\"]\n",
    "y = [\"apple\", \"banana\"]\n",
    "z = x\n",
    "\n",
    "print(x is not z)  #identity operators\n",
    "\n",
    "\n",
    "y = [\"apple\", \"banana\"]\n",
    "\n",
    "print(\"pineapple\" not in y) #membership operators\n"
   ]
  },
  {
   "attachments": {},
   "cell_type": "markdown",
   "metadata": {},
   "source": [
    "PYTHON collections(arrays)-LISTS,tuple,set,dictionary"
   ]
  },
  {
   "cell_type": "code",
   "execution_count": null,
   "metadata": {},
   "outputs": [
    {
     "name": "stdout",
     "output_type": "stream",
     "text": [
      "['car', 'bus', 'bike']\n",
      "3\n",
      "['abc', 34, True, 40, 'male']\n",
      "['abc', 123]\n",
      "['abc', 34, 55, 40, 'male']\n",
      "['apple', 'berry', 'watermelon', 'banana', 'cherry']\n",
      "['apple', 'banana', 'cherry', 'mango']\n",
      "['apple', 'banana', 'cherry', 'mango', 'pineapple', 'papaya']\n",
      "['apple', 'banana']\n",
      "[]\n",
      "apple\n",
      "banana\n",
      "cherry\n",
      "apple\n",
      "banana\n",
      "cherry\n",
      "[0, 1, 2, 3, 4]\n",
      "['banana', 'kiwi', 'mango', 'orange', 'pineapple']\n",
      "[100, 82, 65, 50, 23]\n"
     ]
    }
   ],
   "source": [
    "vehicle = [\"car\",\"bus\",\"bike\"]\n",
    "print(vehicle)\n",
    "print(len(vehicle)) #length of vehicle\n",
    "\n",
    "list1 = [\"abc\", 34, True, 40, \"male\"] #different data types\n",
    "print(list1)\n",
    "\n",
    "abc =list((\"abc\",123)) #list constructor to represent list\n",
    "print(abc)\n",
    "\n",
    "list2 = [\"abc\", 34, True, 40, \"male\"]\n",
    "list2[2] = 55 #changing\n",
    "print(list2)\n",
    "\n",
    "\n",
    "thislist = [\"apple\", \"banana\", \"cherry\"]\n",
    "thislist.insert(1,\"berry\")        #with out replacing any item\n",
    "thislist.insert(2, \"watermelon\")\n",
    "\n",
    "print(thislist) \n",
    "\n",
    "\n",
    "thislist = [\"apple\", \"banana\", \"cherry\"]\n",
    "thislist.append(\"mango\")   #adding end of the list\n",
    "print(thislist)\n",
    "\n",
    "\n",
    "# append elements from another list to the current list, use the extend() method\n",
    "thislist = [\"apple\", \"banana\", \"cherry\"]\n",
    "abc = [\"mango\", \"pineapple\", \"papaya\"]\n",
    "\n",
    "thislist.extend(abc)\n",
    "\n",
    "print(thislist)\n",
    "\n",
    "\n",
    "#ciopy the list\n",
    "thislist = [\"apple\", \"banana\", \"cherry\"]\n",
    "mylist = thislist.copy()\n",
    "print(mylist)\n",
    "\n",
    "#to remove specified index in list\n",
    "thislist = [\"apple\", \"banana\", \"cherry\"]\n",
    "thislist.pop(2)\n",
    "print(thislist)\n",
    "\n",
    "thislist = [\"apple\", \"banana\", \"cherry\"]\n",
    "thislist.clear() #list remains with out any content,del for delete del thelist\n",
    "print(thislist)\n",
    "\n",
    "\n",
    "#loop through the list\n",
    "thislist = [\"apple\", \"banana\", \"cherry\"]\n",
    "for x in thislist:\n",
    " print(x)\n",
    "\n",
    "\n",
    " #while loop\n",
    " thislist = [\"apple\", \"banana\", \"cherry\"]\n",
    "i = 0\n",
    "while i< len(thislist):\n",
    " print(thislist[i])\n",
    " i = i+1\n",
    "\n",
    "\n",
    " newlist = [x for x in range(10) if x < 5] \n",
    "\n",
    "print(newlist)\n",
    "\n",
    "\n",
    "#sorting ascending\n",
    "thislist = [\"orange\", \"mango\", \"kiwi\", \"pineapple\", \"banana\"]\n",
    "thislist.sort()\n",
    "print(thislist)\n",
    "\n",
    "#decending order\n",
    "thislist = [100, 50, 65, 82, 23]\n",
    "thislist.sort(reverse = True)\n",
    "print(thislist)\n",
    "\n",
    "\"\"\"\n",
    "append()\tAdds an element at the end of the list\n",
    "clear()\tRemoves all the elements from the list\n",
    "copy()\tReturns a copy of the list\n",
    "count()\tReturns the number of elements with the specified value\n",
    "extend()\tAdd the elements of a list (or any iterable), to the end of the current list\n",
    "index()\tReturns the index of the first element with the specified value\n",
    "insert()\tAdds an element at the specified position\n",
    "pop()\tRemoves the element at the specified position\n",
    "remove()\tRemoves the item with the specified value\n",
    "reverse()\tReverses the order of the list\n",
    "sort()\tSorts the list\n",
    "\"\"\"\n"
   ]
  },
  {
   "attachments": {},
   "cell_type": "markdown",
   "metadata": {},
   "source": [
    "TUPLES"
   ]
  },
  {
   "cell_type": "code",
   "execution_count": 1,
   "metadata": {},
   "outputs": [
    {
     "name": "stdout",
     "output_type": "stream",
     "text": [
      "      * \n",
      "    * * * \n",
      "  * * * * * \n",
      "* * * * * * * \n"
     ]
    }
   ],
   "source": [
    "\n",
    " for i in range(4):\n",
    "        for i in range(4-i):\n",
    "            print(\"#\",end=\"\")\n",
    "        print()   \n",
    "   \n",
    "\n",
    "k = 0\n",
    "\n",
    "for i in range(1, 4+1):\n",
    "    for space in range(1, (4-i)+1):\n",
    "        print(end=\"  \")\n",
    "   \n",
    "    while k!=(2*i-1):\n",
    "        print(\"* \", end=\"\")\n",
    "        k += 1\n",
    "   \n",
    "    k = 0\n",
    "    print()        "
   ]
  }
 ],
 "metadata": {
  "kernelspec": {
   "display_name": "Python 3",
   "language": "python",
   "name": "python3"
  },
  "language_info": {
   "codemirror_mode": {
    "name": "ipython",
    "version": 3
   },
   "file_extension": ".py",
   "mimetype": "text/x-python",
   "name": "python",
   "nbconvert_exporter": "python",
   "pygments_lexer": "ipython3",
   "version": "3.11.0"
  },
  "orig_nbformat": 4,
  "vscode": {
   "interpreter": {
    "hash": "c261aea317cc0286b3b3261fbba9abdec21eaa57589985bb7a274bf54d6cc0a7"
   }
  }
 },
 "nbformat": 4,
 "nbformat_minor": 2
}
